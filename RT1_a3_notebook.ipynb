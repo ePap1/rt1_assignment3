{
 "cells": [
  {
   "cell_type": "markdown",
   "id": "6939a0d4",
   "metadata": {},
   "source": [
    "Research Track 2: Jupyter Notebook for third RT1 assignment"
   ]
  },
  {
   "cell_type": "code",
   "execution_count": 35,
   "id": "60aa538f",
   "metadata": {},
   "outputs": [],
   "source": [
    "import matplotlib as mpl\n",
    "import matplotlib.pyplot as plt\n",
    "#import numpy as np\n",
    "#import math"
   ]
  },
  {
   "cell_type": "code",
   "execution_count": 36,
   "id": "65669617",
   "metadata": {},
   "outputs": [],
   "source": [
    "import ipywidgets as widgets\n",
    "from IPython.display import display, clear_output\n",
    "from ipywidgets import Button,Layout,ButtonStyle, HBox"
   ]
  },
  {
   "cell_type": "code",
   "execution_count": 37,
   "id": "dae14674",
   "metadata": {},
   "outputs": [],
   "source": [
    "import rospy\n",
    "from rt1_assignment3.srv import BehaviorMode, Goal"
   ]
  },
  {
   "cell_type": "code",
   "execution_count": 38,
   "id": "497d7a9b",
   "metadata": {},
   "outputs": [],
   "source": [
    "b1 = Button(description='Automatic',\n",
    "        layout=Layout(width='auto', align=\"center\", grid_area='b1'),\n",
    "        style=ButtonStyle(button_color='lightblue'))\n",
    "b2 = Button(description='Full manual',\n",
    "        layout=Layout(width='auto', grid_area='b2'),\n",
    "        style=ButtonStyle(button_color='moccasin'))\n",
    "b3 = Button(description='Assisted manual',\n",
    "        layout=Layout(width='auto', grid_area='b3'),\n",
    "        style=ButtonStyle(button_color='salmon'))\n",
    "\n",
    "b4 = widgets.FloatText(\n",
    "    value=7.5,\n",
    "    description='Goal x:',\n",
    "    disabled=False\n",
    ")\n",
    "b5 = widgets.FloatText(\n",
    "    value = 0,\n",
    "    description = 'Goal y:',\n",
    "    disabled=False\n",
    ")\n",
    "            "
   ]
  },
  {
   "cell_type": "code",
   "execution_count": 39,
   "id": "317ff62c",
   "metadata": {},
   "outputs": [],
   "source": [
    "def change_mode(x):\n",
    "    rospy.wait_for_service('/switch_mode')\n",
    "    try:\n",
    "        client = rospy.ServiceProxy('/switch_mode', BehaviorMode)\n",
    "        result = client(x)\n",
    "        if result:\n",
    "            print(\"mode %d selected\" %x)\n",
    "        else:\n",
    "            print(\"no change\")\n",
    "    except rospy.ServiceException as e:\n",
    "        print(\"service /switch_mode has failed\")\n",
    "        \n",
    "def send_goal(b):\n",
    "    with output:\n",
    "        clear_output(wait=True)\n",
    "        rospy.wait_for_service('/set_goal')\n",
    "        try:\n",
    "            client = rospy.ServiceProxy('/set_goal', Goal)\n",
    "            result = client(b4.value, b5.value)\n",
    "            if result:\n",
    "                print(\"goal set\" %x)\n",
    "            else:\n",
    "                print(\"goal not set\")\n",
    "        except rospy.ServiceException as e:\n",
    "            print(\"service /set_goal has failed\")\n"
   ]
  },
  {
   "cell_type": "code",
   "execution_count": 40,
   "id": "4ded08f0",
   "metadata": {},
   "outputs": [
    {
     "data": {
      "application/vnd.jupyter.widget-view+json": {
       "model_id": "b7ff0ae2ca554490b7dec0bc15a0bd3b",
       "version_major": 2,
       "version_minor": 0
      },
      "text/plain": [
       "HBox(children=(Button(description='Automatic', layout=Layout(grid_area='b1', width='auto'), style=ButtonStyle(…"
      ]
     },
     "metadata": {},
     "output_type": "display_data"
    },
    {
     "data": {
      "application/vnd.jupyter.widget-view+json": {
       "model_id": "1f3356bdc8a9493bbf82707bbf3c9836",
       "version_major": 2,
       "version_minor": 0
      },
      "text/plain": [
       "Output()"
      ]
     },
     "metadata": {},
     "output_type": "display_data"
    }
   ],
   "source": [
    "\n",
    "#handle changes, the observe method of the widget can be used to register a callback.\n",
    "def on_button_clicked1(b):\n",
    "    with output:\n",
    "        clear_output(wait=True)\n",
    "        change_mode(1)\n",
    "        \n",
    "def on_button_clicked2(b):\n",
    "    with output:\n",
    "        clear_output(wait=True)\n",
    "        change_mode(2)\n",
    "        \n",
    "def on_button_clicked3(b):\n",
    "    with output:\n",
    "        clear_output(wait=True)\n",
    "        change_mode(3)\n",
    "        \n",
    "b1.on_click(on_button_clicked1)\n",
    "b2.on_click(on_button_clicked2)\n",
    "b3.on_click(on_button_clicked3)\n",
    "      \n",
    "output = widgets.Output()\n",
    "\n",
    "display(HBox([b1,b2,b3]), output)\n",
    "#display(b1, output)\n"
   ]
  },
  {
   "cell_type": "code",
   "execution_count": 42,
   "id": "dc791222",
   "metadata": {},
   "outputs": [
    {
     "data": {
      "application/vnd.jupyter.widget-view+json": {
       "model_id": "b145d8de033842b3afbb48ba58eea26a",
       "version_major": 2,
       "version_minor": 0
      },
      "text/plain": [
       "HBox(children=(FloatText(value=7.5, description='Goal x:'), FloatText(value=0.0, description='Goal y:'), Butto…"
      ]
     },
     "metadata": {},
     "output_type": "display_data"
    }
   ],
   "source": [
    "\n",
    "b6 = Button(description='send goal',\n",
    "        layout=Layout(width='auto', grid_area='b6'),\n",
    "        style=ButtonStyle(button_color='lightblue'))\n",
    "\n",
    "b6.on_click(send_goal)\n",
    "      \n",
    "output = widgets.Output()\n",
    "\n",
    "\n",
    "display(HBox([b4,b5,b6]))\n",
    "\n"
   ]
  },
  {
   "cell_type": "code",
   "execution_count": null,
   "id": "876059c2",
   "metadata": {},
   "outputs": [],
   "source": []
  }
 ],
 "metadata": {
  "kernelspec": {
   "display_name": "Python 3 (ipykernel)",
   "language": "python",
   "name": "python3"
  },
  "language_info": {
   "codemirror_mode": {
    "name": "ipython",
    "version": 3
   },
   "file_extension": ".py",
   "mimetype": "text/x-python",
   "name": "python",
   "nbconvert_exporter": "python",
   "pygments_lexer": "ipython3",
   "version": "3.8.5"
  }
 },
 "nbformat": 4,
 "nbformat_minor": 5
}
