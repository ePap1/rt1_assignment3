{
 "cells": [
  {
   "cell_type": "markdown",
   "id": "71facc68",
   "metadata": {},
   "source": [
    "Research Track 2: Jupyter Notebook for third RT1 assignment"
   ]
  },
  {
   "cell_type": "code",
   "execution_count": null,
   "id": "57bc5641",
   "metadata": {},
   "outputs": [],
   "source": [
    "print('hello world')"
   ]
  },
  {
   "cell_type": "code",
   "execution_count": null,
   "id": "e58bc11d",
   "metadata": {},
   "outputs": [],
   "source": [
    "x = input(\"enter an integer\")\n",
    "print(x)"
   ]
  }
 ],
 "metadata": {
  "kernelspec": {
   "display_name": "Python 3 (ipykernel)",
   "language": "python",
   "name": "python3"
  },
  "language_info": {
   "codemirror_mode": {
    "name": "ipython",
    "version": 3
   },
   "file_extension": ".py",
   "mimetype": "text/x-python",
   "name": "python",
   "nbconvert_exporter": "python",
   "pygments_lexer": "ipython3",
   "version": "3.8.5"
  }
 },
 "nbformat": 4,
 "nbformat_minor": 5
}
