{
 "cells": [
  {
   "cell_type": "markdown",
   "id": "6939a0d4",
   "metadata": {},
   "source": [
    "Research Track 2: Jupyter Notebook for third RT1 assignment"
   ]
  },
  {
   "cell_type": "code",
   "execution_count": 10,
   "id": "60aa538f",
   "metadata": {},
   "outputs": [],
   "source": [
    "import matplotlib as mpl\n",
    "import matplotlib.pyplot as plt\n",
    "from matplotlib.animation import FuncAnimation\n",
    "import numpy as np\n"
   ]
  },
  {
   "cell_type": "code",
   "execution_count": 11,
   "id": "65669617",
   "metadata": {},
   "outputs": [],
   "source": [
    "import ipywidgets as widgets\n",
    "from IPython.display import display, clear_output\n",
    "from ipywidgets import Button,Layout,ButtonStyle, HBox"
   ]
  },
  {
   "cell_type": "code",
   "execution_count": 13,
   "id": "dae14674",
   "metadata": {},
   "outputs": [],
   "source": [
    "import rospy\n",
    "from rt1_assignment3.srv import BehaviorMode, Goal\n",
    "import tf\n",
    "from nav_msgs.msg import Odometry\n",
    "from tf.transformations import quaternion_matrix\n",
    "from sensor_msgs.msg import LaserScan"
   ]
  },
  {
   "cell_type": "code",
   "execution_count": 4,
   "id": "497d7a9b",
   "metadata": {},
   "outputs": [],
   "source": [
    "b1 = Button(description='Automatic',\n",
    "        layout=Layout(width='auto', align=\"center\", grid_area='b1'),\n",
    "        style=ButtonStyle(button_color='lightblue'))\n",
    "b2 = Button(description='Full manual',\n",
    "        layout=Layout(width='auto', grid_area='b2'),\n",
    "        style=ButtonStyle(button_color='moccasin'))\n",
    "b3 = Button(description='Assisted manual',\n",
    "        layout=Layout(width='auto', grid_area='b3'),\n",
    "        style=ButtonStyle(button_color='salmon'))\n",
    "\n",
    "b4 = widgets.FloatText(\n",
    "    value=7.5,\n",
    "    description='Goal x:',\n",
    "    disabled=False\n",
    ")\n",
    "b5 = widgets.FloatText(\n",
    "    value = 0,\n",
    "    description = 'Goal y:',\n",
    "    disabled=False\n",
    ")\n",
    "            "
   ]
  },
  {
   "cell_type": "code",
   "execution_count": 5,
   "id": "317ff62c",
   "metadata": {},
   "outputs": [],
   "source": [
    "def change_mode(x):\n",
    "    rospy.wait_for_service('/switch_mode')\n",
    "    try:\n",
    "        client = rospy.ServiceProxy('/switch_mode', BehaviorMode)\n",
    "        result = client(x)\n",
    "        if result:\n",
    "            print(\"mode %d selected\" %x)\n",
    "        else:\n",
    "            print(\"no change\")\n",
    "    except rospy.ServiceException as e:\n",
    "        print(\"service /switch_mode has failed\")\n",
    "        \n",
    "def send_goal(b):\n",
    "    with output:\n",
    "        clear_output(wait=True)\n",
    "        rospy.wait_for_service('/set_goal')\n",
    "        try:\n",
    "            client = rospy.ServiceProxy('/set_goal', Goal)\n",
    "            result = client(b4.value, b5.value)\n",
    "            if result:\n",
    "                print(\"goal set\" %x)\n",
    "            else:\n",
    "                print(\"goal not set\")\n",
    "        except rospy.ServiceException as e:\n",
    "            print(\"service /set_goal has failed\")\n"
   ]
  },
  {
   "cell_type": "code",
   "execution_count": 18,
   "id": "7d9418c4",
   "metadata": {},
   "outputs": [],
   "source": [
    "class Visualiser:\n",
    "    def __init__(self):\n",
    "        self.fig, self.ax = plt.subplots()\n",
    "        self.ln, = plt.plot([], [], 'ro')\n",
    "        self.x_data, self.y_data = [] , []\n",
    "    def plot_init(self):\n",
    "        self.ax.set_xlim(-100, 100)\n",
    "        self.ax.set_ylim(-10, 10)\n",
    "        return self.ln\n",
    "    \n",
    "    def odom_callback(self, msg):\n",
    "        self.y_data.append(msg.pose.pose.position.y)\n",
    "        self.x_data.append(msg.pose.pose.position.x)\n",
    "        \n",
    "    def scan_callback(self, msg):\n",
    "        self.x_data = msg.ranges\n",
    "        self.y_data = msg.intensities        \n",
    "   \n",
    "    def update_plot(self, frame):\n",
    "        self.ln.set_data(self.x_data, self.y_data)\n",
    "        return self.ln\n",
    "    \n",
    "class Success:\n",
    "    def __init__(self):\n",
    "        self.fig, self.ax = plt.subplots()\n",
    "        self.ln, = plt.plot([], [], 'ro')\n",
    "        self.x_data = np.linspace(1,2,2)\n",
    "        self.y_data = [] \n",
    "        plt.xticks(np.linspace(0,12,13))\n",
    "        plt.bar(x,y, align='center', width=0.35, color='blue')\n",
    "        \n",
    "    def plot_init(self):\n",
    "        self.ax.set_xlim(0, 3)\n",
    "        self.ax.set_ylim(0, 10)\n",
    "        return self.ln\n",
    "    \n",
    "    def feedback_callback(self, msg):\n",
    "        self.y_data.append(msg)\n",
    "    \n",
    "    def update_plot(self, frame):\n",
    "        self.ln.set_data(self.x_data, self.y_data)\n",
    "        return self.ln\n"
   ]
  },
  {
   "cell_type": "code",
   "execution_count": 6,
   "id": "4ded08f0",
   "metadata": {},
   "outputs": [
    {
     "data": {
      "application/vnd.jupyter.widget-view+json": {
       "model_id": "95860068d3ae4baa9177f0f636652282",
       "version_major": 2,
       "version_minor": 0
      },
      "text/plain": [
       "HBox(children=(Button(description='Automatic', layout=Layout(grid_area='b1', width='auto'), style=ButtonStyle(…"
      ]
     },
     "metadata": {},
     "output_type": "display_data"
    },
    {
     "data": {
      "application/vnd.jupyter.widget-view+json": {
       "model_id": "818f8942d0d84f65ae29426f6b8b358a",
       "version_major": 2,
       "version_minor": 0
      },
      "text/plain": [
       "Output()"
      ]
     },
     "metadata": {},
     "output_type": "display_data"
    }
   ],
   "source": [
    "#handle changes, the observe method of the widget can be used to register a callback.\n",
    "def on_button_clicked1(b):\n",
    "    with output:\n",
    "        clear_output(wait=True)\n",
    "        change_mode(1)\n",
    "        \n",
    "def on_button_clicked2(b):\n",
    "    with output:\n",
    "        clear_output(wait=True)\n",
    "        change_mode(2)\n",
    "        \n",
    "def on_button_clicked3(b):\n",
    "    with output:\n",
    "        clear_output(wait=True)\n",
    "        change_mode(3)\n",
    "        \n",
    "b1.on_click(on_button_clicked1)\n",
    "b2.on_click(on_button_clicked2)\n",
    "b3.on_click(on_button_clicked3)\n",
    "      \n",
    "output = widgets.Output()\n",
    "display(HBox([b1,b2,b3]), output)"
   ]
  },
  {
   "cell_type": "code",
   "execution_count": 7,
   "id": "dc791222",
   "metadata": {},
   "outputs": [
    {
     "data": {
      "application/vnd.jupyter.widget-view+json": {
       "model_id": "149fe4c2cf5e4d9ab4b2a5c2072a13db",
       "version_major": 2,
       "version_minor": 0
      },
      "text/plain": [
       "HBox(children=(FloatText(value=7.5, description='Goal x:'), FloatText(value=0.0, description='Goal y:'), Butto…"
      ]
     },
     "metadata": {},
     "output_type": "display_data"
    }
   ],
   "source": [
    "b6 = Button(description='send goal',\n",
    "        layout=Layout(width='auto', grid_area='b6'),\n",
    "        style=ButtonStyle(button_color='lightblue'))\n",
    "\n",
    "b6.on_click(send_goal)      \n",
    "output = widgets.Output()\n",
    "display(HBox([b4,b5,b6]))"
   ]
  },
  {
   "cell_type": "code",
   "execution_count": 14,
   "id": "d499bd41",
   "metadata": {},
   "outputs": [
    {
     "data": {
      "image/png": "[encoded data removed]",
      "text/plain": [
       "<Figure size 432x288 with 1 Axes>"
      ]
     },
     "metadata": {
      "needs_background": "light"
     },
     "output_type": "display_data"
    }
   ],
   "source": [
    "rospy.init_node('odom_visualizer_node')\n",
    "vis_odom = Visualiser()\n",
    "sub_odom = rospy.Subscriber('/odom', Odometry, vis_odom.odom_callback)\n",
    "ani1 = FuncAnimation(vis_odom.fig, vis_odom.update_plot, init_func=vis_odom.plot_init)\n",
    "plt.show(block=True)"
   ]
  },
  {
   "cell_type": "code",
   "execution_count": 19,
   "id": "0af8a9c2",
   "metadata": {},
   "outputs": [
    {
     "data": {
      "image/png": "[encoded data removed]",
      "text/plain": [
       "<Figure size 432x288 with 1 Axes>"
      ]
     },
     "metadata": {
      "needs_background": "light"
     },
     "output_type": "display_data"
    }
   ],
   "source": [
    "\n",
    "vis_scan = Visualiser()\n",
    "sub_scan = rospy.Subscriber('/scan', LaserScan, vis_scan.scan_callback)\n",
    "ani2 = FuncAnimation(vis_scan.fig, vis_scan.update_plot, init_func=vis_scan.plot_init)\n",
    "plt.show(block=True)"
   ]
  },
  {
   "cell_type": "code",
   "execution_count": null,
   "id": "14d74dde",
   "metadata": {},
   "outputs": [],
   "source": []
  }
 ],
 "metadata": {
  "kernelspec": {
   "display_name": "Python 3 (ipykernel)",
   "language": "python",
   "name": "python3"
  },
  "language_info": {
   "codemirror_mode": {
    "name": "ipython",
    "version": 3
   },
   "file_extension": ".py",
   "mimetype": "text/x-python",
   "name": "python",
   "nbconvert_exporter": "python",
   "pygments_lexer": "ipython3",
   "version": "3.8.5"
  }
 },
 "nbformat": 4,
 "nbformat_minor": 5
}
